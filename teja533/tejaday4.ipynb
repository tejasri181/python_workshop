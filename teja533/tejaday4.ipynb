{
 "cells": [
  {
   "cell_type": "markdown",
   "metadata": {},
   "source": [
    "# Day objectives"
   ]
  },
  {
   "cell_type": "markdown",
   "metadata": {},
   "source": [
    "## packages"
   ]
  },
  {
   "cell_type": "markdown",
   "metadata": {},
   "source": [
    "## filehandling"
   ]
  },
  {
   "cell_type": "markdown",
   "metadata": {},
   "source": [
    "* a.read mode\n",
    "* b.write mode\n",
    "* c.append mode"
   ]
  },
  {
   "cell_type": "code",
   "execution_count": 1,
   "metadata": {},
   "outputs": [
    {
     "data": {
      "text/plain": [
       "57"
      ]
     },
     "execution_count": 1,
     "metadata": {},
     "output_type": "execute_result"
    }
   ],
   "source": [
    "# collection of modules\n",
    "from packages import module\n",
    "module.add(23,34)"
   ]
  },
  {
   "cell_type": "code",
   "execution_count": 2,
   "metadata": {},
   "outputs": [
    {
     "name": "stdout",
     "output_type": "stream",
     "text": [
      "leap\n"
     ]
    }
   ],
   "source": [
    "from packages import module\n",
    "module.isleapyear(2000)"
   ]
  },
  {
   "cell_type": "code",
   "execution_count": 3,
   "metadata": {},
   "outputs": [
    {
     "name": "stdout",
     "output_type": "stream",
     "text": [
      "2 prime\n"
     ]
    }
   ],
   "source": [
    "from packages import module\n",
    "module.isprime(2)"
   ]
  },
  {
   "cell_type": "code",
   "execution_count": 4,
   "metadata": {},
   "outputs": [
    {
     "name": "stdout",
     "output_type": "stream",
     "text": [
      "2\n",
      "4\n",
      "6\n",
      "8\n",
      "10\n",
      "12\n",
      "14\n",
      "16\n",
      "18\n",
      "20\n"
     ]
    }
   ],
   "source": [
    "from  packages import module\n",
    "module.alleven(1,20)"
   ]
  },
  {
   "cell_type": "code",
   "execution_count": 5,
   "metadata": {},
   "outputs": [
    {
     "name": "stdout",
     "output_type": "stream",
     "text": [
      "1\n",
      "3\n",
      "5\n",
      "7\n",
      "9\n",
      "11\n",
      "13\n",
      "15\n",
      "17\n",
      "19\n"
     ]
    }
   ],
   "source": [
    "from  packages import module\n",
    "module.allodd(1,20)"
   ]
  },
  {
   "cell_type": "code",
   "execution_count": 1,
   "metadata": {},
   "outputs": [
    {
     "data": {
      "text/plain": [
       "720"
      ]
     },
     "execution_count": 1,
     "metadata": {},
     "output_type": "execute_result"
    }
   ],
   "source": [
    "from packages import module\n",
    "module.fact(6)"
   ]
  },
  {
   "cell_type": "markdown",
   "metadata": {},
   "source": [
    "# Files"
   ]
  },
  {
   "cell_type": "code",
   "execution_count": 2,
   "metadata": {},
   "outputs": [],
   "source": [
    "# open(data.txt,mode)\n",
    "# write(data.txt,'w')\n",
    "# read(data.txt,'r')\n",
    "# append(data.txt,'a')\n",
    "# f.close()"
   ]
  },
  {
   "cell_type": "code",
   "execution_count": 15,
   "metadata": {},
   "outputs": [],
   "source": [
    "def writedata():\n",
    "    with open(\"files/data1.txt\",'w') as f:\n",
    "        f.write(\"teju\")\n",
    "    f.close()    \n",
    "writedata()"
   ]
  },
  {
   "cell_type": "code",
   "execution_count": 4,
   "metadata": {},
   "outputs": [
    {
     "name": "stdout",
     "output_type": "stream",
     "text": [
      "teju\n"
     ]
    }
   ],
   "source": [
    "def readdata():\n",
    "    with open(\"files/data1.txt\",'r') as f:\n",
    "        print(f.read())\n",
    "readdata()"
   ]
  },
  {
   "cell_type": "code",
   "execution_count": 16,
   "metadata": {},
   "outputs": [],
   "source": [
    "def append():\n",
    "    with open(\"files/data1.txt\",'a') as f:\n",
    "         f.write(\"sai\")\n",
    "    f.close()\n",
    "append()"
   ]
  },
  {
   "cell_type": "code",
   "execution_count": 9,
   "metadata": {},
   "outputs": [
    {
     "name": "stdout",
     "output_type": "stream",
     "text": [
      "tejusai\n",
      "sai\n",
      "sai\n",
      "sai\n"
     ]
    }
   ],
   "source": [
    "def readdata():\n",
    "    with open(\"files/data1.txt\",'r') as f:\n",
    "        print(f.read())\n",
    "readdata()"
   ]
  },
  {
   "cell_type": "code",
   "execution_count": 13,
   "metadata": {},
   "outputs": [
    {
     "name": "stdout",
     "output_type": "stream",
     "text": [
      "tejusai\n",
      "\n",
      "sai\n",
      "\n",
      "sai\n",
      "\n",
      "sai\n"
     ]
    }
   ],
   "source": [
    "def readdata():\n",
    "    with open(\"files/data1.txt\",'r') as f:\n",
    "        for line in f.readlines():\n",
    "            print(line)\n",
    "readdata()"
   ]
  },
  {
   "cell_type": "code",
   "execution_count": 14,
   "metadata": {},
   "outputs": [
    {
     "name": "stdout",
     "output_type": "stream",
     "text": [
      "t\n",
      "e\n",
      "j\n",
      "u\n",
      "s\n",
      "a\n",
      "i\n",
      "\n",
      "\n"
     ]
    }
   ],
   "source": [
    "def readdata():\n",
    "    with open(\"files/data1.txt\",'r') as f:\n",
    "        for line in f.readline():\n",
    "            print(line)\n",
    "readdata()"
   ]
  },
  {
   "cell_type": "code",
   "execution_count": 21,
   "metadata": {},
   "outputs": [],
   "source": [
    "# generate student marks list\n",
    "from random import randint\n",
    "def marklist(n,lb,ub):\n",
    "    with open(\"files/marks.txt\",'w') as f:\n",
    "        for student in range(60):\n",
    "            mark=randint(lb,ub)\n",
    "            f.write(str(mark))\n",
    "            f.write('\\n')\n",
    "    f.close()        \n",
    "marklist(60,0,100)"
   ]
  },
  {
   "cell_type": "code",
   "execution_count": 26,
   "metadata": {},
   "outputs": [
    {
     "name": "stdout",
     "output_type": "stream",
     "text": [
      "41.983333333333334\n"
     ]
    }
   ],
   "source": [
    "def avgstudentmarks():\n",
    "    total=0\n",
    "    c=0\n",
    "    with open(\"files/marks.txt\",'r') as f:\n",
    "        for student in f:\n",
    "            total+=int(student)\n",
    "            c+=1\n",
    "    print(total/c)\n",
    "avgstudentmarks()"
   ]
  },
  {
   "cell_type": "code",
   "execution_count": 29,
   "metadata": {},
   "outputs": [
    {
     "name": "stdout",
     "output_type": "stream",
     "text": [
      "11\n"
     ]
    }
   ],
   "source": [
    "def student():\n",
    "    with open(\"files/marks.txt\",'r') as f:\n",
    "        c=0\n",
    "        for student in f:\n",
    "            if int(student)>75:\n",
    "                c+=1\n",
    "    print(c)\n",
    "student()    "
   ]
  },
  {
   "cell_type": "code",
   "execution_count": 33,
   "metadata": {},
   "outputs": [
    {
     "name": "stdout",
     "output_type": "stream",
     "text": [
      "94\n",
      "\n",
      "49\n",
      "\n",
      "42\n",
      "\n",
      "83\n",
      "\n",
      "39\n",
      "\n",
      "70\n",
      "\n",
      "38\n",
      "\n",
      "41\n",
      "\n",
      "46\n",
      "\n",
      "56\n",
      "\n",
      "57\n",
      "\n",
      "62\n",
      "\n",
      "42\n",
      "\n",
      "72\n",
      "\n",
      "37\n",
      "\n",
      "59\n",
      "\n",
      "39\n",
      "\n",
      "84\n",
      "\n",
      "50\n",
      "\n",
      "90\n",
      "\n",
      "76\n",
      "\n",
      "98\n",
      "\n",
      "81\n",
      "\n",
      "60\n",
      "\n",
      "39\n",
      "\n",
      "60\n",
      "\n",
      "58\n",
      "\n",
      "84\n",
      "\n",
      "85\n",
      "\n",
      "77\n",
      "\n",
      "85\n",
      "\n",
      "55\n",
      "\n",
      "46\n",
      "\n"
     ]
    }
   ],
   "source": [
    "def passpersentage():\n",
    "    with open(\"files/marks.txt\",'r')as f:\n",
    "        c=0\n",
    "        total=0\n",
    "        for student in f:\n",
    "            total+=int(student)\n",
    "            if int(student)>=35:\n",
    "                print(student)\n",
    "#                 persentage=(int(student)/total)*100\n",
    "#                 c+=1\n",
    "#     print(persentage,c)            \n",
    "passpersentage()                "
   ]
  },
  {
   "cell_type": "markdown",
   "metadata": {},
   "source": [
    "# File data processing"
   ]
  },
  {
   "cell_type": "markdown",
   "metadata": {},
   "source": [
    "* manipulation of data\n",
    "* line count\n",
    "* word count\n",
    "* char count\n",
    "* alpha count\n",
    "* numeric count\n",
    "* special char count\n"
   ]
  },
  {
   "cell_type": "code",
   "execution_count": 35,
   "metadata": {},
   "outputs": [
    {
     "data": {
      "text/plain": [
       "1"
      ]
     },
     "execution_count": 35,
     "metadata": {},
     "output_type": "execute_result"
    }
   ],
   "source": [
    "def linecount():\n",
    "    with open(\"files/data1.txt\",'r') as f:\n",
    "        c=0\n",
    "        for line in f.readlines():\n",
    "            c+=1\n",
    "    return c\n",
    "linecount()"
   ]
  },
  {
   "cell_type": "code",
   "execution_count": 38,
   "metadata": {},
   "outputs": [
    {
     "data": {
      "text/plain": [
       "7"
      ]
     },
     "execution_count": 38,
     "metadata": {},
     "output_type": "execute_result"
    }
   ],
   "source": [
    "def charcount():\n",
    "    with open(\"files/data1.txt\",'r') as f:\n",
    "        c=0\n",
    "        for line in f.readlines():\n",
    "            for char in line:\n",
    "                c+=1\n",
    "    return c\n",
    "charcount()"
   ]
  },
  {
   "cell_type": "code",
   "execution_count": 1,
   "metadata": {},
   "outputs": [
    {
     "data": {
      "text/plain": [
       "13"
      ]
     },
     "execution_count": 1,
     "metadata": {},
     "output_type": "execute_result"
    }
   ],
   "source": [
    "def alphacount():\n",
    "    with open(\"files/data1.txt\",'r') as f:\n",
    "        c=0\n",
    "        for line in f.read():\n",
    "            if line.isalpha():\n",
    "                    c+=1\n",
    "    return c\n",
    "alphacount()"
   ]
  },
  {
   "cell_type": "code",
   "execution_count": 20,
   "metadata": {},
   "outputs": [
    {
     "data": {
      "text/plain": [
       "11"
      ]
     },
     "execution_count": 20,
     "metadata": {},
     "output_type": "execute_result"
    }
   ],
   "source": [
    "def digitcount():\n",
    "    with open(\"files/data1.txt\",'r') as f:\n",
    "        c=0\n",
    "        for line in f.read():\n",
    "            if line.isdigit():\n",
    "                    c+=1\n",
    "    return c\n",
    "digitcount()"
   ]
  },
  {
   "cell_type": "code",
   "execution_count": 23,
   "metadata": {},
   "outputs": [
    {
     "data": {
      "text/plain": [
       "3"
      ]
     },
     "execution_count": 23,
     "metadata": {},
     "output_type": "execute_result"
    }
   ],
   "source": [
    "def wordcount():\n",
    "    with open(\"files/data1.txt\",'r') as f:\n",
    "        c=1\n",
    "        for line in f.read():\n",
    "            if (line==' 'or line=='\\n'):\n",
    "                    c+=1\n",
    "    return c\n",
    "wordcount()"
   ]
  },
  {
   "cell_type": "code",
   "execution_count": 18,
   "metadata": {},
   "outputs": [
    {
     "name": "stdout",
     "output_type": "stream",
     "text": [
      "3\n"
     ]
    }
   ],
   "source": [
    "def wordcount():\n",
    "    with open(\"files/data1.txt\",'r') as f:\n",
    "        c=0\n",
    "        for line in f.readlines():\n",
    "            c+=len(line.split())\n",
    "    print(c)\n",
    "wordcount()"
   ]
  },
  {
   "cell_type": "code",
   "execution_count": null,
   "metadata": {},
   "outputs": [],
   "source": []
  }
 ],
 "metadata": {
  "kernelspec": {
   "display_name": "Python 3",
   "language": "python",
   "name": "python3"
  },
  "language_info": {
   "codemirror_mode": {
    "name": "ipython",
    "version": 3
   },
   "file_extension": ".py",
   "mimetype": "text/x-python",
   "name": "python",
   "nbconvert_exporter": "python",
   "pygments_lexer": "ipython3",
   "version": "3.7.3"
  }
 },
 "nbformat": 4,
 "nbformat_minor": 2
}
